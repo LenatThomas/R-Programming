{
  "nbformat": 4,
  "nbformat_minor": 0,
  "metadata": {
    "colab": {
      "provenance": []
    },
    "kernelspec": {
      "name": "ir",
      "display_name": "R"
    },
    "language_info": {
      "name": "R"
    }
  },
  "cells": [
    {
      "cell_type": "code",
      "execution_count": 27,
      "metadata": {
        "colab": {
          "base_uri": "https://localhost:8080/"
        },
        "id": "s0CdDmzfI9aD",
        "outputId": "3b94a6d6-0e9a-428e-8bed-a3c0ceecaec8"
      },
      "outputs": [
        {
          "output_type": "stream",
          "name": "stderr",
          "text": [
            "Warning message in readLines(\"RandomParagraph.txt\"):\n",
            "“incomplete final line found on 'RandomParagraph.txt'”\n"
          ]
        },
        {
          "output_type": "stream",
          "name": "stdout",
          "text": [
            "The original Paragraph\t:  The cat sat on the mat and watched the dog chase the ball. The cat was bored, but the dog was having fun. The cat wished that it could join in the fun, but it was too lazy to get up. The dog chased the ball all over the yard, but it couldn't catch it. The cat just sat there and watched, and eventually the dog gave up and went back to the cat. The cat was still bored, but it was at least amused by the dog's antics. \n",
            "\n",
            "Total Number of Words\t:  89\n",
            "Average Word Length\t:  3\n",
            "The Longest Word\t:  eventually\n",
            "Enter the word to replace\t: dog\n",
            "\n",
            "Enter the replacing word\t: bug\n",
            "\n",
            "The Modified Paragraph\t:  The cat sat on the mat and watched the bug chase the ball. The cat was bored, but the bug was having fun. The cat wished that it could join in the fun, but it was too lazy to get up. The bug chased the ball all over the yard, but it couldn't catch it. The cat just sat there and watched, and eventually the bug gave up and went back to the cat. The cat was still bored, but it was at least amused by the bug's antics."
          ]
        }
      ],
      "source": [
        "File <- readLines(\"RandomParagraph.txt\")\n",
        "Words <- unlist(strsplit(File , \" \"))\n",
        "cat(\"The original Paragraph\\t: \" , File , \"\\n\")\n",
        "Nwords <- length(Words)\n",
        "cat(\"\\nTotal Number of Words\\t: \" , Nwords)\n",
        "AverageLength <- (sum(nchar(unlist(Words)))) %/% Nwords\n",
        "cat(\"\\nAverage Word Length\\t: \" , AverageLength)\n",
        "WordLengths <- sapply(Words , nchar)\n",
        "LongestWord <- Words[which.max(WordLengths)]\n",
        "cat(\"\\nThe Longest Word\\t: \" , LongestWord)\n",
        "\n",
        "ReplacingWord <- readline(prompt = \"\\nEnter the word to replace\\t: \")\n",
        "ReplacementWord <- readline(prompt = \"\\nEnter the replacing word\\t: \")\n",
        "\n",
        "ModifiedParagraph <- gsub(ReplacingWord , ReplacementWord , File)\n",
        "cat(\"\\nThe Modified Paragraph\\t: \" , ModifiedParagraph)"
      ]
    },
    {
      "cell_type": "code",
      "source": [
        "encrypt <- function(Letter, Shift) {\n",
        "  if (is.na(Letter)) {\n",
        "    return(NA)\n",
        "  }\n",
        "  if (Letter %in% letters) {\n",
        "    Alphabet <- letters\n",
        "  } else if (Letter %in% LETTERS) {\n",
        "    Alphabet <- LETTERS\n",
        "  } else {\n",
        "    return(Letter)\n",
        "  }\n",
        "  LetterIndex <- match(Letter, Alphabet)\n",
        "  EncryptionIndex <- (LetterIndex + Shift - 1) %% 26 + 1\n",
        "  return(Alphabet[EncryptionIndex])\n",
        "}\n",
        "\n",
        "encryptSentence <- function(Sentence, Shift) {\n",
        "  Word <- unlist(strsplit(Sentence, \"\"))\n",
        "  EncryptionWord <- sapply(Word, encrypt , Shift = Shift)\n",
        "  EncryptionSentence <- paste(EncryptionWord, collapse = \"\")\n",
        "  return(EncryptionSentence)\n",
        "}\n",
        "\n",
        "Sentence <- readline(\"\\nEnter a Sentence to encrypt: \")\n",
        "ShiftValue <- as.integer(readline(\"\\nEnter the Shift value: \"))\n",
        "\n",
        "EncryptionSentence <- encryptSentence(Sentence, ShiftValue)\n",
        "\n",
        "cat(\"\\nEncrypted Sentence:\", EncryptionSentence, \"\\n\")"
      ],
      "metadata": {
        "colab": {
          "base_uri": "https://localhost:8080/"
        },
        "id": "XgiZEoJDJe0R",
        "outputId": "f788e697-d92c-4891-cb29-69863af8763b"
      },
      "execution_count": 29,
      "outputs": [
        {
          "output_type": "stream",
          "name": "stdout",
          "text": [
            "\n",
            "Enter a Sentence to encrypt: I got a leek in my boat\n",
            "\n",
            "Enter the Shift value: 5\n",
            "\n",
            "Encrypted Sentence: N lty f qjjp ns rd gtfy \n"
          ]
        }
      ]
    },
    {
      "cell_type": "code",
      "source": [
        "validGrade <- function(Grade){\n",
        "  ValidGrades = list(\"A\" , \"B\" , \"C\" , \"D\" , \"E\")\n",
        "  return(!is.na(Grade) && Grade %in% ValidGrades)\n",
        "}\n",
        "\n",
        "validAge <- function(Age){\n",
        "  return(!is.na(Age) && is.numeric(Age) && Age > 0 && Age == round(Age))\n",
        "}\n",
        "\n",
        "Records <- list()\n",
        "NRecords <- 0\n",
        "TotalAge <- 0\n",
        "\n",
        "repeat{\n",
        "  Name <- readline(\"\\nEnter the name of the student (or press Enter to stop)\\t: \")\n",
        "  if (nchar(Name) == 0) {\n",
        "    break\n",
        "  }\n",
        "\n",
        "  Age <- as.integer(readline(\"\\nEnter the age of the student\\t: \"))\n",
        "  if (!validAge(Age)){\n",
        "    cat(\"Invalid Age\")\n",
        "    next\n",
        "  }\n",
        "\n",
        "  Grade <- readline(\"\\nEnter the grade of the student\\t: \")\n",
        "  if (!validGrade(Grade)){\n",
        "    cat(\"Invalid Grade\")\n",
        "    next\n",
        "  }\n",
        "\n",
        "  Records <- c(Records, list(Name = Name, Age = Age, Grade = Grade))\n",
        "\n",
        "  TotalAge <- TotalAge + Age\n",
        "  NRecords <- NRecords + 1\n",
        "}\n",
        "\n",
        "if (NRecords > 0) {\n",
        "  cat(\"\\nThe average age is\\t: \" , TotalAge %/% NRecords)\n",
        "} else {\n",
        "  cat(\"\\nNo valid Records entered\")\n",
        "}"
      ],
      "metadata": {
        "colab": {
          "base_uri": "https://localhost:8080/"
        },
        "id": "sHB4m_NfSqgh",
        "outputId": "1e5da58d-d2ec-4e3b-e01a-ad5de5d4e9bd"
      },
      "execution_count": 32,
      "outputs": [
        {
          "output_type": "stream",
          "name": "stdout",
          "text": [
            "\n",
            "Enter the name of the student (or press Enter to stop)\t: Joy\n",
            "\n",
            "Enter the age of the student\t: 15\n",
            "\n",
            "Enter the grade of the student\t: A\n",
            "\n",
            "Enter the name of the student (or press Enter to stop)\t: Samueal\n",
            "\n",
            "Enter the age of the student\t: 20\n",
            "\n",
            "Enter the grade of the student\t: C\n",
            "\n",
            "Enter the name of the student (or press Enter to stop)\t: Klaus\n",
            "\n",
            "Enter the age of the student\t: 16\n",
            "\n",
            "Enter the grade of the student\t: B\n",
            "\n",
            "Enter the name of the student (or press Enter to stop)\t: \n",
            "\n",
            "The average age is\t:  17"
          ]
        }
      ]
    },
    {
      "cell_type": "code",
      "source": [
        "generatePassword <- function(Length) {\n",
        "\n",
        "  LowerCase <- letters\n",
        "  UpperCase <- LETTERS\n",
        "  Digits <- 0:9\n",
        "  SpecialCharacters <- c(\"!\", \"@\", \"#\", \"$\", \"%\", \"^\", \"&\", \"*\", \"(\", \")\", \"-\", \"_\", \"+\", \"=\")\n",
        "\n",
        "  AllCharacter <- c(LowerCase, UpperCase, Digits, SpecialCharacters)\n",
        "\n",
        "  password <- sample(AllCharacter, Length, replace = TRUE)\n",
        "\n",
        "  return(paste(password, collapse = \"\"))\n",
        "}\n",
        "\n",
        "PasswordLength <- as.integer(readline(\"\\nEnter the desired password Length\\t: \"))\n",
        "\n",
        "if (!is.na(PasswordLength) || PasswordLength > 3) {\n",
        "  Password <- generatePassword(PasswordLength)\n",
        "  cat(\"\\nYour random password is: \", Password)\n",
        "} else {\n",
        "  cat(\"\\nInvalid password Length. Please enter a positive integer.\\n\")\n",
        "}"
      ],
      "metadata": {
        "colab": {
          "base_uri": "https://localhost:8080/"
        },
        "id": "UkWelcdpXAd2",
        "outputId": "a0628a91-b463-403b-897a-34011569dc51"
      },
      "execution_count": 34,
      "outputs": [
        {
          "output_type": "stream",
          "name": "stdout",
          "text": [
            "\n",
            "Enter the desired password Length\t: 15\n",
            "\n",
            "Your random password is:  4+kIJ+kK)dX6*nd"
          ]
        }
      ]
    },
    {
      "cell_type": "code",
      "source": [
        "seriesSum <- function(Terms) {\n",
        "  SumSeries <- 0\n",
        "  Denominator <- 1\n",
        "  Sign <- 1\n",
        "\n",
        "  for (i in 1:Terms) {\n",
        "    SumSeries <- SumSeries + Sign * i / Denominator\n",
        "    Denominator <- Denominator + 2\n",
        "    Sign <- -Sign\n",
        "  }\n",
        "\n",
        "  return(SumSeries)\n",
        "}\n",
        "\n",
        "NTerms <- as.integer(readline(\"\\nEnter the number of Terms in the series\\t: \"))\n",
        "\n",
        "if (!is.na(NTerms) || NTerms > 0) {\n",
        "  SumSeries <- seriesSum(NTerms)\n",
        "  cat(\"\\nThe sum of the series with\", NTerms, \"Terms is:\", SumSeries)\n",
        "} else {\n",
        "  cat(\"\\nInvalid input. Please enter a positive integer.\\n\")\n",
        "}"
      ],
      "metadata": {
        "colab": {
          "base_uri": "https://localhost:8080/"
        },
        "id": "SkB-frI-Yl11",
        "outputId": "ab1a619d-88eb-4c2d-d645-f220d10ddc26"
      },
      "execution_count": 35,
      "outputs": [
        {
          "output_type": "stream",
          "name": "stdout",
          "text": [
            "\n",
            "Enter the number of Terms in the series\t: 8\n",
            "\n",
            "The sum of the series with 8 Terms is: 0.377134"
          ]
        }
      ]
    },
    {
      "cell_type": "code",
      "source": [
        "checkPrime <- function(n) {\n",
        "  if (n <= 1) {\n",
        "    return(FALSE)\n",
        "  }\n",
        "  if (n == 2) {\n",
        "    return(TRUE)\n",
        "  }\n",
        "  if (n %% 2 == 0) {\n",
        "    return(FALSE)\n",
        "  }\n",
        "  for (i in 3:sqrt(n)) {\n",
        "    if (n %% i == 0) {\n",
        "      return(FALSE)\n",
        "    }\n",
        "  }\n",
        "  return(TRUE)\n",
        "}\n",
        "\n",
        "Num <- as.integer(readline(\"\\nEnter a Number\\t: \"))\n",
        "\n",
        "if (checkPrime(Num)) {\n",
        "  cat(Num, \"is a prime Number.\\n\")\n",
        "} else {\n",
        "  cat(Num, \"is not a prime Number.\\n\")\n",
        "}\n",
        "\n",
        "Start <- as.integer(readline(\"\\nEnter the start of the range: \"))\n",
        "End <- as.integer(readline(\"\\nEnter the end of the range: \"))\n",
        "\n",
        "if (is.na(Start) || is.na(End)) {\n",
        "  cat(\"Invalid input. Please enter valid positive integer ranges.\\n\")\n",
        "}\n",
        "\n",
        "if (End < Start) {\n",
        "  Temp = Start\n",
        "  Start = End\n",
        "  End = Start\n",
        "}\n",
        "\n",
        "cat(\"\\nPrime Numbers in the range from\", Start, \"to\", End, \"are:\\n\")\n",
        "for (i in Start:End) {\n",
        "  if (checkPrime(i)) {\n",
        "    cat(i, \" \")\n",
        "  }\n",
        "}\n",
        "cat(\"\\n\")\n"
      ],
      "metadata": {
        "colab": {
          "base_uri": "https://localhost:8080/"
        },
        "id": "ravUoHz6Z2Ws",
        "outputId": "4fa25af4-b0af-4d3c-c6e1-213e536f33db"
      },
      "execution_count": 36,
      "outputs": [
        {
          "output_type": "stream",
          "name": "stdout",
          "text": [
            "\n",
            "Enter a Number\t: 47\n",
            "47 is a prime Number.\n",
            "\n",
            "Enter the start of the range: 1\n",
            "\n",
            "Enter the end of the range: 50\n",
            "\n",
            "Prime Numbers in the range from 1 to 50 are:\n",
            "2  5  7  11  13  17  19  23  29  31  37  41  43  47  \n"
          ]
        }
      ]
    },
    {
      "cell_type": "code",
      "source": [
        "ConstructFibonocciSeries <- function(x , y , z , Terms) {\n",
        "  Series <- numeric(Terms)\n",
        "\n",
        "  Series[1] = x\n",
        "  Series[2] = y\n",
        "  Series[3] = z\n",
        "\n",
        "  for (i in 4:Terms) {\n",
        "    Series[i] = Series[i - 1] + Series[i - 2] + Series[i - 3]\n",
        "  }\n",
        "\n",
        "  return(Series)\n",
        "}\n",
        "\n",
        "cat(\"\\nEnter three staring numbers\\t: \")\n",
        "x <- as.integer(readline(prompt = \"\\nX\\t: \"))\n",
        "y <- as.integer(readline(prompt = \"\\nY\\t: \"))\n",
        "z <- as.integer(readline(prompt = \"\\nZ\\t: \"))\n",
        "Terms = as.integer(readline(prompt = \"\\nEnter the number of terms\\t: \"))\n",
        "\n",
        "if (is.na(x) && is.na(y) && is.na(z) && is.na(Terms) && Terms < 0) {\n",
        "  cat(\"\\nInvalid Inputs\")\n",
        "}\n",
        "\n",
        "Fibonocci <- ConstructFibonocciSeries(x , y , z , Terms)\n",
        "cat(\"The modified Fibonacci series\\t: \\n\")\n",
        "cat(Fibonocci, sep = \", \", \"\\n\")"
      ],
      "metadata": {
        "colab": {
          "base_uri": "https://localhost:8080/"
        },
        "id": "8KY_gcdfbkSI",
        "outputId": "30b0afa1-a1da-4673-c41b-55ae686687f9"
      },
      "execution_count": 40,
      "outputs": [
        {
          "output_type": "stream",
          "name": "stdout",
          "text": [
            "\n",
            "Enter three staring numbers\t: \n",
            "X\t: 1\n",
            "\n",
            "Y\t: 2\n",
            "\n",
            "Z\t: 2\n",
            "\n",
            "Enter the number of terms\t: 10\n",
            "The modified Fibonacci series\t: \n",
            "1, 2, 2, 5, 9, 16, 30, 55, 101, 186, \n"
          ]
        }
      ]
    },
    {
      "cell_type": "code",
      "source": [
        "checkPalindrome <- function(Sentence) {\n",
        "  CleanString <- tolower(gsub(\"[[:punct:][:space:]]\", \"\", Sentence))\n",
        "\n",
        "  ReverseString <- rev(strsplit(CleanString, NULL)[[1]])\n",
        "\n",
        "  return(CleanString == ReverseString)\n",
        "}\n",
        "\n",
        "Sentence <- readline(\"\\nEnter a string\\t: \")\n",
        "\n",
        "if (all(checkPalindrome(Sentence))) {\n",
        "  cat(\"\\nThe entered string is a palindrome\")\n",
        "} else {\n",
        "  cat(\"\\nThe entered string is not a palindrome\")\n",
        "}"
      ],
      "metadata": {
        "colab": {
          "base_uri": "https://localhost:8080/"
        },
        "id": "sLaFsFnXd_4k",
        "outputId": "a193b524-d640-4caa-bb7f-6490de7c49e4"
      },
      "execution_count": 47,
      "outputs": [
        {
          "output_type": "stream",
          "name": "stdout",
          "text": [
            "\n",
            "Enter a string\t: Herculres\n",
            "\n",
            "The entered string is not a palindrome"
          ]
        }
      ]
    },
    {
      "cell_type": "code",
      "source": [
        "runLengthEncode <- function(Sentence) {\n",
        "  if (nchar(Sentence) == 0) {\n",
        "    return(\"\")\n",
        "  }\n",
        "\n",
        "  Compress <- \"\"\n",
        "  Current <- substr(Sentence, 1, 1)\n",
        "  Count <- 1\n",
        "\n",
        "  for (i in 2:nchar(Sentence)) {\n",
        "    if (substr(Sentence, i, i) == Current) {\n",
        "      Count <- Count + 1\n",
        "    } else {\n",
        "      Compress <- paste0(Compress, Current, Count)\n",
        "      Current <- substr(Sentence, i, i)\n",
        "      Count <- 1\n",
        "    }\n",
        "  }\n",
        "\n",
        "  Compress <- paste0(Compress, Current, Count)\n",
        "  return(Compress)\n",
        "}\n",
        "\n",
        "Sentence <- readline(\"\\nEnter a string\\t: \")\n",
        "\n",
        "Compress <- runLengthEncode(Sentence)\n",
        "\n",
        "cat(\"\\nCompressed string:\", Compress)"
      ],
      "metadata": {
        "colab": {
          "base_uri": "https://localhost:8080/"
        },
        "id": "tX7mh9emghID",
        "outputId": "20031899-28ca-4224-81fd-67a6c20e6b10"
      },
      "execution_count": 48,
      "outputs": [
        {
          "output_type": "stream",
          "name": "stdout",
          "text": [
            "\n",
            "Enter a string\t: Start\n",
            "\n",
            "Compressed string: S1t1a1r1t1"
          ]
        }
      ]
    },
    {
      "cell_type": "code",
      "source": [
        "reverseList <- function(lst) {\n",
        "  if (length(lst) <= 1) {\n",
        "    return(lst)\n",
        "  } else {\n",
        "    First <- lst[1]\n",
        "    Remaining <- lst[-1]\n",
        "    ReverseRemaining <- reverseList(Remaining)\n",
        "    return(c(ReverseRemaining, First))\n",
        "  }\n",
        "}\n",
        "\n",
        "lst <- c(1, 2, 3, 4, 5)\n",
        "\n",
        "Reverse <- reverseList(lst)\n",
        "\n",
        "cat(\"\\nOriginal list: \", lst)\n",
        "cat(\"\\nReversed list: \", Reverse)\n"
      ],
      "metadata": {
        "colab": {
          "base_uri": "https://localhost:8080/"
        },
        "id": "y1q7zjxre7cw",
        "outputId": "676288dc-8276-4351-ab8c-0256089da18b"
      },
      "execution_count": 50,
      "outputs": [
        {
          "output_type": "stream",
          "name": "stdout",
          "text": [
            "\n",
            "Original list:  1 2 3 4 5\n",
            "Reversed list:  5 4 3 2 1"
          ]
        }
      ]
    },
    {
      "cell_type": "code",
      "source": [],
      "metadata": {
        "id": "_j--BqNQhzX3"
      },
      "execution_count": null,
      "outputs": []
    }
  ]
}