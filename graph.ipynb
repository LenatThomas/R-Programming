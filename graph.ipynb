{
  "nbformat": 4,
  "nbformat_minor": 0,
  "metadata": {
    "colab": {
      "provenance": []
    },
    "kernelspec": {
      "name": "ir",
      "display_name": "R"
    },
    "language_info": {
      "name": "R"
    }
  },
  "cells": [
    {
      "cell_type": "code",
      "execution_count": 4,
      "metadata": {
        "colab": {
          "base_uri": "https://localhost:8080/"
        },
        "id": "uh6AvIoBs4ud",
        "outputId": "02c23dbc-9e17-4ad9-9071-72b943955720"
      },
      "outputs": [
        {
          "output_type": "stream",
          "name": "stderr",
          "text": [
            "Installing package into ‘/usr/local/lib/R/site-library’\n",
            "(as ‘lib’ is unspecified)\n",
            "\n"
          ]
        }
      ],
      "source": [
        "install.packages('igraph')"
      ]
    },
    {
      "cell_type": "code",
      "source": [
        "library('igraph')"
      ],
      "metadata": {
        "id": "UpXctF4YtCDO"
      },
      "execution_count": 5,
      "outputs": []
    },
    {
      "cell_type": "code",
      "source": [
        "CreateAdjacencyList <- function(Edges , Directed = FALSE) {\n",
        "  Graph <- graph_from_edgelist(Edges, directed = Directed)\n",
        "  AdjacencyList <- as_adj_list(Graph)\n",
        "  return(AdjacencyList)\n",
        "}"
      ],
      "metadata": {
        "id": "_H-JCmLltIbM"
      },
      "execution_count": 8,
      "outputs": []
    },
    {
      "cell_type": "code",
      "source": [
        "Edges <- matrix(c(1, 2, 2, 3, 3, 4, 4, 1, 2, 4), ncol = 2, byrow = TRUE)\n",
        "Graph <- graph_from_edgelist(Edges , directed = FALSE)\n",
        "AdjacencyList <- CreateAdjacencyList(edges)\n",
        "print(AdjacencyList)"
      ],
      "metadata": {
        "colab": {
          "base_uri": "https://localhost:8080/"
        },
        "id": "5F1VFocQBxhZ",
        "outputId": "084c7960-6522-4d6f-b95b-56b1f730a12b"
      },
      "execution_count": 14,
      "outputs": [
        {
          "output_type": "stream",
          "name": "stdout",
          "text": [
            "[[1]]\n",
            "+ 2/4 vertices, from 6769f8b:\n",
            "[1] 2 4\n",
            "\n",
            "[[2]]\n",
            "+ 3/4 vertices, from 6769f8b:\n",
            "[1] 1 3 4\n",
            "\n",
            "[[3]]\n",
            "+ 2/4 vertices, from 6769f8b:\n",
            "[1] 2 4\n",
            "\n",
            "[[4]]\n",
            "+ 3/4 vertices, from 6769f8b:\n",
            "[1] 1 2 3\n",
            "\n"
          ]
        }
      ]
    },
    {
      "cell_type": "code",
      "source": [
        "AddEdge <- function(Graph, v1, v2) {\n",
        "  Graph <- add_edges(Graph, c(v1, v2))\n",
        "  return(Graph)\n",
        "}"
      ],
      "metadata": {
        "id": "7KwDEiDaB2QB"
      },
      "execution_count": 11,
      "outputs": []
    },
    {
      "cell_type": "code",
      "source": [
        "Graph = AddEdge(Graph , 1 , 3)"
      ],
      "metadata": {
        "id": "f5IVmBSaCgPH"
      },
      "execution_count": 34,
      "outputs": []
    },
    {
      "cell_type": "code",
      "source": [
        "print(as_adj_list(Graph))"
      ],
      "metadata": {
        "colab": {
          "base_uri": "https://localhost:8080/"
        },
        "id": "jlsE0D62DBVl",
        "outputId": "85ca7810-9550-4108-d9ab-64d5947d5cea"
      },
      "execution_count": 21,
      "outputs": [
        {
          "output_type": "stream",
          "name": "stdout",
          "text": [
            "[[1]]\n",
            "+ 3/4 vertices, from b49d01d:\n",
            "[1] 2 3 4\n",
            "\n",
            "[[2]]\n",
            "+ 3/4 vertices, from b49d01d:\n",
            "[1] 1 3 4\n",
            "\n",
            "[[3]]\n",
            "+ 3/4 vertices, from b49d01d:\n",
            "[1] 1 2 4\n",
            "\n",
            "[[4]]\n",
            "+ 3/4 vertices, from b49d01d:\n",
            "[1] 1 2 3\n",
            "\n"
          ]
        }
      ]
    },
    {
      "cell_type": "code",
      "source": [
        "DFS <- function(graph, Start) {\n",
        "  result <- dfs(graph, root = Start)\n",
        "  cat(\"DFS Traversal:\", result$order, \"\\n\")\n",
        "}"
      ],
      "metadata": {
        "id": "EMi-4TThDbQA"
      },
      "execution_count": 40,
      "outputs": []
    },
    {
      "cell_type": "code",
      "source": [
        "DFS(Graph , 1)"
      ],
      "metadata": {
        "colab": {
          "base_uri": "https://localhost:8080/"
        },
        "id": "xh8oR6WbD18s",
        "outputId": "c5d6f760-11a8-4e7f-d578-8fe67d89353e"
      },
      "execution_count": 41,
      "outputs": [
        {
          "output_type": "stream",
          "name": "stdout",
          "text": [
            "DFS Traversal: 1 2 3 4 \n"
          ]
        }
      ]
    },
    {
      "cell_type": "code",
      "source": [],
      "metadata": {
        "id": "ssa25KmiD2g7"
      },
      "execution_count": null,
      "outputs": []
    }
  ]
}