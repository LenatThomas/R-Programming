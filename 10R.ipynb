{
  "nbformat": 4,
  "nbformat_minor": 0,
  "metadata": {
    "colab": {
      "provenance": []
    },
    "kernelspec": {
      "name": "ir",
      "display_name": "R"
    },
    "language_info": {
      "name": "R"
    }
  },
  "cells": [
    {
      "cell_type": "code",
      "execution_count": 31,
      "metadata": {
        "id": "eOifSovEmMKx"
      },
      "outputs": [],
      "source": [
        "Dataset = read.csv('train.csv')\n",
        "columns = names(Dataset)"
      ]
    },
    {
      "cell_type": "code",
      "source": [
        "columns"
      ],
      "metadata": {
        "colab": {
          "base_uri": "https://localhost:8080/",
          "height": 138
        },
        "id": "GtrwMwqfmmdr",
        "outputId": "635d3f70-41f3-461b-fa7d-8ad641d9652e"
      },
      "execution_count": 36,
      "outputs": [
        {
          "output_type": "display_data",
          "data": {
            "text/html": [
              "<style>\n",
              ".list-inline {list-style: none; margin:0; padding: 0}\n",
              ".list-inline>li {display: inline-block}\n",
              ".list-inline>li:not(:last-child)::after {content: \"\\00b7\"; padding: 0 .5ex}\n",
              "</style>\n",
              "<ol class=list-inline><li>'Id'</li><li>'MSSubClass'</li><li>'MSZoning'</li><li>'LotFrontage'</li><li>'LotArea'</li><li>'Street'</li><li>'Alley'</li><li>'LotShape'</li><li>'LandContour'</li><li>'Utilities'</li><li>'LotConfig'</li><li>'LandSlope'</li><li>'Neighborhood'</li><li>'Condition1'</li><li>'Condition2'</li><li>'BldgType'</li><li>'HouseStyle'</li><li>'OverallQual'</li><li>'OverallCond'</li><li>'YearBuilt'</li><li>'YearRemodAdd'</li><li>'RoofStyle'</li><li>'RoofMatl'</li><li>'Exterior1st'</li><li>'Exterior2nd'</li><li>'MasVnrType'</li><li>'MasVnrArea'</li><li>'ExterQual'</li><li>'ExterCond'</li><li>'Foundation'</li><li>'BsmtQual'</li><li>'BsmtCond'</li><li>'BsmtExposure'</li><li>'BsmtFinType1'</li><li>'BsmtFinSF1'</li><li>'BsmtFinType2'</li><li>'BsmtFinSF2'</li><li>'BsmtUnfSF'</li><li>'TotalBsmtSF'</li><li>'Heating'</li><li>'HeatingQC'</li><li>'CentralAir'</li><li>'Electrical'</li><li>'X1stFlrSF'</li><li>'X2ndFlrSF'</li><li>'LowQualFinSF'</li><li>'GrLivArea'</li><li>'BsmtFullBath'</li><li>'BsmtHalfBath'</li><li>'FullBath'</li><li>'HalfBath'</li><li>'BedroomAbvGr'</li><li>'KitchenAbvGr'</li><li>'KitchenQual'</li><li>'TotRmsAbvGrd'</li><li>'Functional'</li><li>'Fireplaces'</li><li>'FireplaceQu'</li><li>'GarageType'</li><li>'GarageYrBlt'</li><li>'GarageFinish'</li><li>'GarageCars'</li><li>'GarageArea'</li><li>'GarageQual'</li><li>'GarageCond'</li><li>'PavedDrive'</li><li>'WoodDeckSF'</li><li>'OpenPorchSF'</li><li>'EnclosedPorch'</li><li>'X3SsnPorch'</li><li>'ScreenPorch'</li><li>'PoolArea'</li><li>'PoolQC'</li><li>'Fence'</li><li>'MiscFeature'</li><li>'MiscVal'</li><li>'MoSold'</li><li>'YrSold'</li><li>'SaleType'</li><li>'SaleCondition'</li><li>'SalePrice'</li></ol>\n"
            ],
            "text/markdown": "1. 'Id'\n2. 'MSSubClass'\n3. 'MSZoning'\n4. 'LotFrontage'\n5. 'LotArea'\n6. 'Street'\n7. 'Alley'\n8. 'LotShape'\n9. 'LandContour'\n10. 'Utilities'\n11. 'LotConfig'\n12. 'LandSlope'\n13. 'Neighborhood'\n14. 'Condition1'\n15. 'Condition2'\n16. 'BldgType'\n17. 'HouseStyle'\n18. 'OverallQual'\n19. 'OverallCond'\n20. 'YearBuilt'\n21. 'YearRemodAdd'\n22. 'RoofStyle'\n23. 'RoofMatl'\n24. 'Exterior1st'\n25. 'Exterior2nd'\n26. 'MasVnrType'\n27. 'MasVnrArea'\n28. 'ExterQual'\n29. 'ExterCond'\n30. 'Foundation'\n31. 'BsmtQual'\n32. 'BsmtCond'\n33. 'BsmtExposure'\n34. 'BsmtFinType1'\n35. 'BsmtFinSF1'\n36. 'BsmtFinType2'\n37. 'BsmtFinSF2'\n38. 'BsmtUnfSF'\n39. 'TotalBsmtSF'\n40. 'Heating'\n41. 'HeatingQC'\n42. 'CentralAir'\n43. 'Electrical'\n44. 'X1stFlrSF'\n45. 'X2ndFlrSF'\n46. 'LowQualFinSF'\n47. 'GrLivArea'\n48. 'BsmtFullBath'\n49. 'BsmtHalfBath'\n50. 'FullBath'\n51. 'HalfBath'\n52. 'BedroomAbvGr'\n53. 'KitchenAbvGr'\n54. 'KitchenQual'\n55. 'TotRmsAbvGrd'\n56. 'Functional'\n57. 'Fireplaces'\n58. 'FireplaceQu'\n59. 'GarageType'\n60. 'GarageYrBlt'\n61. 'GarageFinish'\n62. 'GarageCars'\n63. 'GarageArea'\n64. 'GarageQual'\n65. 'GarageCond'\n66. 'PavedDrive'\n67. 'WoodDeckSF'\n68. 'OpenPorchSF'\n69. 'EnclosedPorch'\n70. 'X3SsnPorch'\n71. 'ScreenPorch'\n72. 'PoolArea'\n73. 'PoolQC'\n74. 'Fence'\n75. 'MiscFeature'\n76. 'MiscVal'\n77. 'MoSold'\n78. 'YrSold'\n79. 'SaleType'\n80. 'SaleCondition'\n81. 'SalePrice'\n\n\n",
            "text/latex": "\\begin{enumerate*}\n\\item 'Id'\n\\item 'MSSubClass'\n\\item 'MSZoning'\n\\item 'LotFrontage'\n\\item 'LotArea'\n\\item 'Street'\n\\item 'Alley'\n\\item 'LotShape'\n\\item 'LandContour'\n\\item 'Utilities'\n\\item 'LotConfig'\n\\item 'LandSlope'\n\\item 'Neighborhood'\n\\item 'Condition1'\n\\item 'Condition2'\n\\item 'BldgType'\n\\item 'HouseStyle'\n\\item 'OverallQual'\n\\item 'OverallCond'\n\\item 'YearBuilt'\n\\item 'YearRemodAdd'\n\\item 'RoofStyle'\n\\item 'RoofMatl'\n\\item 'Exterior1st'\n\\item 'Exterior2nd'\n\\item 'MasVnrType'\n\\item 'MasVnrArea'\n\\item 'ExterQual'\n\\item 'ExterCond'\n\\item 'Foundation'\n\\item 'BsmtQual'\n\\item 'BsmtCond'\n\\item 'BsmtExposure'\n\\item 'BsmtFinType1'\n\\item 'BsmtFinSF1'\n\\item 'BsmtFinType2'\n\\item 'BsmtFinSF2'\n\\item 'BsmtUnfSF'\n\\item 'TotalBsmtSF'\n\\item 'Heating'\n\\item 'HeatingQC'\n\\item 'CentralAir'\n\\item 'Electrical'\n\\item 'X1stFlrSF'\n\\item 'X2ndFlrSF'\n\\item 'LowQualFinSF'\n\\item 'GrLivArea'\n\\item 'BsmtFullBath'\n\\item 'BsmtHalfBath'\n\\item 'FullBath'\n\\item 'HalfBath'\n\\item 'BedroomAbvGr'\n\\item 'KitchenAbvGr'\n\\item 'KitchenQual'\n\\item 'TotRmsAbvGrd'\n\\item 'Functional'\n\\item 'Fireplaces'\n\\item 'FireplaceQu'\n\\item 'GarageType'\n\\item 'GarageYrBlt'\n\\item 'GarageFinish'\n\\item 'GarageCars'\n\\item 'GarageArea'\n\\item 'GarageQual'\n\\item 'GarageCond'\n\\item 'PavedDrive'\n\\item 'WoodDeckSF'\n\\item 'OpenPorchSF'\n\\item 'EnclosedPorch'\n\\item 'X3SsnPorch'\n\\item 'ScreenPorch'\n\\item 'PoolArea'\n\\item 'PoolQC'\n\\item 'Fence'\n\\item 'MiscFeature'\n\\item 'MiscVal'\n\\item 'MoSold'\n\\item 'YrSold'\n\\item 'SaleType'\n\\item 'SaleCondition'\n\\item 'SalePrice'\n\\end{enumerate*}\n",
            "text/plain": [
              " [1] \"Id\"            \"MSSubClass\"    \"MSZoning\"      \"LotFrontage\"  \n",
              " [5] \"LotArea\"       \"Street\"        \"Alley\"         \"LotShape\"     \n",
              " [9] \"LandContour\"   \"Utilities\"     \"LotConfig\"     \"LandSlope\"    \n",
              "[13] \"Neighborhood\"  \"Condition1\"    \"Condition2\"    \"BldgType\"     \n",
              "[17] \"HouseStyle\"    \"OverallQual\"   \"OverallCond\"   \"YearBuilt\"    \n",
              "[21] \"YearRemodAdd\"  \"RoofStyle\"     \"RoofMatl\"      \"Exterior1st\"  \n",
              "[25] \"Exterior2nd\"   \"MasVnrType\"    \"MasVnrArea\"    \"ExterQual\"    \n",
              "[29] \"ExterCond\"     \"Foundation\"    \"BsmtQual\"      \"BsmtCond\"     \n",
              "[33] \"BsmtExposure\"  \"BsmtFinType1\"  \"BsmtFinSF1\"    \"BsmtFinType2\" \n",
              "[37] \"BsmtFinSF2\"    \"BsmtUnfSF\"     \"TotalBsmtSF\"   \"Heating\"      \n",
              "[41] \"HeatingQC\"     \"CentralAir\"    \"Electrical\"    \"X1stFlrSF\"    \n",
              "[45] \"X2ndFlrSF\"     \"LowQualFinSF\"  \"GrLivArea\"     \"BsmtFullBath\" \n",
              "[49] \"BsmtHalfBath\"  \"FullBath\"      \"HalfBath\"      \"BedroomAbvGr\" \n",
              "[53] \"KitchenAbvGr\"  \"KitchenQual\"   \"TotRmsAbvGrd\"  \"Functional\"   \n",
              "[57] \"Fireplaces\"    \"FireplaceQu\"   \"GarageType\"    \"GarageYrBlt\"  \n",
              "[61] \"GarageFinish\"  \"GarageCars\"    \"GarageArea\"    \"GarageQual\"   \n",
              "[65] \"GarageCond\"    \"PavedDrive\"    \"WoodDeckSF\"    \"OpenPorchSF\"  \n",
              "[69] \"EnclosedPorch\" \"X3SsnPorch\"    \"ScreenPorch\"   \"PoolArea\"     \n",
              "[73] \"PoolQC\"        \"Fence\"         \"MiscFeature\"   \"MiscVal\"      \n",
              "[77] \"MoSold\"        \"YrSold\"        \"SaleType\"      \"SaleCondition\"\n",
              "[81] \"SalePrice\"    "
            ]
          },
          "metadata": {}
        }
      ]
    },
    {
      "cell_type": "code",
      "source": [
        "MinMaxScaling <- function(x) {\n",
        "  return ((x - min(x)) / (max(x) - min(x)))\n",
        "}"
      ],
      "metadata": {
        "id": "01h8chadoCo3"
      },
      "execution_count": 39,
      "outputs": []
    },
    {
      "cell_type": "code",
      "source": [
        "x <- MinMaxScaling(Dataset$LotArea)\n",
        "y <- MinMaxScaling(Dataset$SalePrice)"
      ],
      "metadata": {
        "id": "mdgEmmIKm4ZX"
      },
      "execution_count": 40,
      "outputs": []
    },
    {
      "cell_type": "code",
      "source": [
        "Data <- data.frame(x = x , y = y )"
      ],
      "metadata": {
        "id": "VnG2yxL6p_W1"
      },
      "execution_count": 42,
      "outputs": []
    },
    {
      "cell_type": "code",
      "source": [
        "Model = lm(y ~ x , Data)"
      ],
      "metadata": {
        "id": "BCD3Z9qCqc8n"
      },
      "execution_count": 43,
      "outputs": []
    },
    {
      "cell_type": "code",
      "source": [
        "summary(Model)"
      ],
      "metadata": {
        "id": "zxI_tGmPqjC4",
        "outputId": "a60ccef5-02aa-4ec7-c46c-dddf75106a2f",
        "colab": {
          "base_uri": "https://localhost:8080/",
          "height": 329
        }
      },
      "execution_count": 44,
      "outputs": [
        {
          "output_type": "display_data",
          "data": {
            "text/plain": [
              "\n",
              "Call:\n",
              "lm(formula = y ~ x, data = Data)\n",
              "\n",
              "Residuals:\n",
              "     Min       1Q   Median       3Q      Max \n",
              "-0.38282 -0.06689 -0.02461  0.04339  0.76844 \n",
              "\n",
              "Coefficients:\n",
              "            Estimate Std. Error t value Pr(>|t|)    \n",
              "(Intercept) 0.175901   0.003793   46.38   <2e-16 ***\n",
              "x           0.623911   0.059735   10.45   <2e-16 ***\n",
              "---\n",
              "Signif. codes:  0 ‘***’ 0.001 ‘**’ 0.01 ‘*’ 0.05 ‘.’ 0.1 ‘ ’ 1\n",
              "\n",
              "Residual standard error: 0.1064 on 1458 degrees of freedom\n",
              "Multiple R-squared:  0.06961,\tAdjusted R-squared:  0.06898 \n",
              "F-statistic: 109.1 on 1 and 1458 DF,  p-value: < 2.2e-16\n"
            ]
          },
          "metadata": {}
        }
      ]
    },
    {
      "cell_type": "code",
      "source": [
        "cat(\"Interscept of the model\\t: \" , coef(Model)[1] , \"\\n\")\n",
        "cat(\"Slope of the model\\t: \" , coef(Model)[2])"
      ],
      "metadata": {
        "id": "7Ww4lHIkqnZE",
        "outputId": "6cb33979-b001-4356-ea82-0ff24d55b4e7",
        "colab": {
          "base_uri": "https://localhost:8080/"
        }
      },
      "execution_count": 48,
      "outputs": [
        {
          "output_type": "stream",
          "name": "stdout",
          "text": [
            "Interscept of the model\t:  0.1759007 \n",
            "Slope of the model\t:  0.6239113"
          ]
        }
      ]
    },
    {
      "cell_type": "code",
      "source": [],
      "metadata": {
        "id": "LT98zc91q82i"
      },
      "execution_count": null,
      "outputs": []
    }
  ]
}